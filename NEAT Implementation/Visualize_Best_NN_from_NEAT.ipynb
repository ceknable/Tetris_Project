{
 "cells": [
  {
   "cell_type": "markdown",
   "id": "1c368b8e",
   "metadata": {},
   "source": [
    "# Libraries"
   ]
  },
  {
   "cell_type": "code",
   "execution_count": 1,
   "id": "944a14ec",
   "metadata": {},
   "outputs": [],
   "source": [
    "#Libraries\n",
    "import gymnasium as gym\n",
    "from tetris_gymnasium.envs.tetris import Tetris\n",
    "from tetris_gymnasium.envs.tetris import TetrisState\n",
    "from tetris_gymnasium.wrappers.observation import FeatureVectorObservation\n",
    "\n",
    "import sys\n",
    "import cv2\n",
    "import time\n",
    "import numpy as np\n",
    "\n",
    "import os\n",
    "\n",
    "import neat\n",
    "import random\n",
    "import pickle"
   ]
  },
  {
   "cell_type": "markdown",
   "id": "2cf0bec1",
   "metadata": {},
   "source": [
    "# Load the Neural Network from a Pickle File"
   ]
  },
  {
   "cell_type": "code",
   "execution_count": 2,
   "id": "9cb3d757",
   "metadata": {},
   "outputs": [
    {
     "name": "stdout",
     "output_type": "stream",
     "text": [
      "<neat.nn.feed_forward.FeedForwardNetwork object at 0x000001DB317519D0>\n",
      "<neat.nn.feed_forward.FeedForwardNetwork object at 0x000001DB31751820>\n"
     ]
    }
   ],
   "source": [
    "# Load the neural network from the pkl file\n",
    "\n",
    "with open('my_winner_delh_only.pkl', 'rb') as f:\n",
    "     x_net_delh_only= pickle.load(f)\n",
    "with open('my_winner.pkl', 'rb') as f:\n",
    "     x_net_del_h_andholes = pickle.load(f)\n",
    "print(x_net_del_h_andholes)\n",
    "print(x_net_delh_only)"
   ]
  },
  {
   "cell_type": "markdown",
   "id": "b51e391a",
   "metadata": {},
   "source": [
    "# Visualize Random Agent --> Press 'a' to start the clip"
   ]
  },
  {
   "cell_type": "code",
   "execution_count": 11,
   "id": "01d6d021",
   "metadata": {},
   "outputs": [
    {
     "name": "stdout",
     "output_type": "stream",
     "text": [
      "Game Over!\n"
     ]
    }
   ],
   "source": [
    "if __name__ == \"__main__\":\n",
    "    # Create an instance of Tetris\n",
    "    env = gym.make(\"tetris_gymnasium/Tetris\", render_mode=\"human\")\n",
    "    env.reset(seed=6252590) ########CHANGE SEED\n",
    "    reward_hist = 0\n",
    "    del_h_hist = 0\n",
    "    del_holes_hist = 0 \n",
    "    start_clip =0\n",
    "    # Main game loop\n",
    "    terminated = False\n",
    "    while not terminated:\n",
    "        env.render()\n",
    "        action = None\n",
    "        while action is None:\n",
    "            key = cv2.waitKey(1)\n",
    "            \n",
    "            if start_clip==0:\n",
    "                if key == ord(\"a\"):\n",
    "                    action = env.unwrapped.actions.move_left\n",
    "                    start_clip=1\n",
    "            else:        \n",
    "                env1 = FeatureVectorObservation(env) #create an instance of the class\n",
    "\n",
    "                height_i = env1.calc_height(env.board) #call a function from the class with the board as an input\n",
    "                height_i = (height_i[4:14])-4 #crop out the padding on either side (the bedrock) and normalize by the 4 layers of bedrock underneath\n",
    "                prev_height = height_i #calculate the height before the move\n",
    "\n",
    "                ### Code to get the holes before the move \n",
    "                holes_i = env1.calc_holes(env.board)\n",
    "                prev_holes = holes_i #calculate the holes before the move\n",
    "\n",
    "                ### FEATURIZATION\n",
    "                \n",
    "                ### Get the current tetromino in a list form and in the position relative to the other blocks\n",
    "                tetromino = env.active_tetromino\n",
    "                slices = env.get_tetromino_slices(tetromino, env.x, env.y)\n",
    "                #Create pseudo_board of just zeros\n",
    "                only_tetromino = np.zeros((24,18))\n",
    "                #add the tetromino in its correct place\n",
    "                only_tetromino[slices] += tetromino.matrix\n",
    "                #Convert to 1s and 0s\n",
    "                only_tetromino = np.where(only_tetromino > 0, 1, 0)\n",
    "                #Sum in each column\n",
    "                only_tetromino = np.sum(only_tetromino,axis=0)\n",
    "                #Crop out the empty bedrock\n",
    "                only_tetromino=only_tetromino[4:14]\n",
    "                #print(only_tetromino)\n",
    "\n",
    "                \n",
    "                #compile the two features together\n",
    "                i_feat = np.hstack((only_tetromino,height_i)) #this is a one dimensional list of 20 integers\n",
    "\n",
    "                ### FEED THE FEATURES INTO THE NEURAL NETWORK\n",
    "                \n",
    "                #Iterate to the next step\n",
    "                action = np.argmax(x_net_del_h_andholes.activate(i_feat)) ### CHANGE WITH NETWORK PLAYING WITH\n",
    "                if action ==2:\n",
    "                    action = 5\n",
    "\n",
    "            if (\n",
    "                cv2.getWindowProperty(env.unwrapped.window_name, cv2.WND_PROP_VISIBLE)\n",
    "                == 0\n",
    "                ):\n",
    "                sys.exit()\n",
    "        \n",
    "        time.sleep(.1) #add a delay in between each move for better visualization\n",
    "        \n",
    "        # Perform the action\n",
    "        observation, reward, terminated, truncated, info = env.step(action)\n",
    "\n",
    "\n",
    "    # Game over\n",
    "    print(\"Game Over!\")"
   ]
  },
  {
   "cell_type": "markdown",
   "id": "82495f7e",
   "metadata": {},
   "source": []
  }
 ],
 "metadata": {
  "kernelspec": {
   "display_name": "Python 3 (ipykernel)",
   "language": "python",
   "name": "python3"
  },
  "language_info": {
   "codemirror_mode": {
    "name": "ipython",
    "version": 3
   },
   "file_extension": ".py",
   "mimetype": "text/x-python",
   "name": "python",
   "nbconvert_exporter": "python",
   "pygments_lexer": "ipython3",
   "version": "3.9.13"
  }
 },
 "nbformat": 4,
 "nbformat_minor": 5
}
